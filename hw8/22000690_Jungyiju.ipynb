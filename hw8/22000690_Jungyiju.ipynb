{
 "cells": [
  {
   "cell_type": "markdown",
   "metadata": {},
   "source": [
    "HW_8 by 22000690 정이주\n",
    "\n",
    "1. Objective : Classification\n",
    "\n",
    "2. Input\n",
    "\n",
    "  * Toy dataset\n",
    "\n",
    "3. Output\n",
    "\n",
    "  * Question class\n",
    "  * Entropy calculation\n",
    "  * Information gain\n",
    "  * Decision Tree\n",
    "  * Random Forest"
   ]
  },
  {
   "cell_type": "markdown",
   "metadata": {
    "id": "fXu352W4GMCV"
   },
   "source": [
    "### For student code\n",
    "## STEP1. Make a toy dataset"
   ]
  },
  {
   "cell_type": "code",
   "execution_count": 1,
   "metadata": {
    "id": "sH2Fla5GcowD"
   },
   "outputs": [],
   "source": [
    "## Make a toy dataset\n",
    "train_data = [\n",
    "    ['Green', 3, 'Apple'],\n",
    "    ['Yellow', 3, 'Apple'],\n",
    "    ['Red', 1, 'Grape'],\n",
    "    ['Red', 1, 'Grape'],\n",
    "    ['Yellow', 3, 'Lemon'],\n",
    "    ['Yellow', 4, 'Lemon']\n",
    "]"
   ]
  },
  {
   "cell_type": "code",
   "execution_count": 2,
   "metadata": {
    "id": "2qz43orddTyi"
   },
   "outputs": [],
   "source": [
    "columns = ['color', 'diameter', 'label']"
   ]
  },
  {
   "cell_type": "markdown",
   "metadata": {
    "id": "y-8_PLCPGSFU"
   },
   "source": [
    "---\n",
    "## STEP2. Make useful functions "
   ]
  },
  {
   "cell_type": "code",
   "execution_count": 3,
   "metadata": {
    "id": "7q6LDLMIdi5k"
   },
   "outputs": [],
   "source": [
    "# Useful function\n",
    "def unique_vals(rows, col):\n",
    "  '''\n",
    "  rows: list of row data\n",
    "  col: the index of column that we want to find\n",
    "  '''\n",
    "  return set([row[col] for row in rows])"
   ]
  },
  {
   "cell_type": "markdown",
   "metadata": {
    "id": "4zQiwJM2QZom"
   },
   "source": [
    "### Let's use _unique_vals_ function for finding the unique value!"
   ]
  },
  {
   "cell_type": "code",
   "execution_count": 4,
   "metadata": {
    "id": "ZdG8Jpsadqbz"
   },
   "outputs": [],
   "source": [
    "# Useful function\n",
    "def class_counts(rows):\n",
    "    \"\"\"Counts the number of each type of example in a dataset.\n",
    "    rows: list of row data\n",
    "    \"\"\"\n",
    "    counts = {}  # a dictionary of label -> count.\n",
    "\n",
    "    for row in rows:\n",
    "        # in our dataset format, the label is always the last column\n",
    "        label = row[-1]\n",
    "\n",
    "        if label not in counts:\n",
    "            counts[label] = 0\n",
    "        counts[label] += 1\n",
    "    return counts"
   ]
  },
  {
   "cell_type": "markdown",
   "metadata": {
    "id": "ZQQqOkkSQgl2"
   },
   "source": [
    "### Let's use _class_counts_ function!"
   ]
  },
  {
   "cell_type": "code",
   "execution_count": 5,
   "metadata": {
    "id": "3HZsepJHeLd6"
   },
   "outputs": [],
   "source": [
    "def is_numeric(value):\n",
    "    return isinstance(value, int) or isinstance(value, float)"
   ]
  },
  {
   "cell_type": "markdown",
   "metadata": {
    "id": "YQwQW7g6QobX"
   },
   "source": [
    "### Let's use _is_numeric_ function!"
   ]
  },
  {
   "cell_type": "code",
   "execution_count": 6,
   "metadata": {
    "colab": {
     "base_uri": "https://localhost:8080/"
    },
    "executionInfo": {
     "elapsed": 571,
     "status": "ok",
     "timestamp": 1620645513037,
     "user": {
      "displayName": "최슬기",
      "photoUrl": "",
      "userId": "07544998231005909564"
     },
     "user_tz": -540
    },
    "id": "gEDLD3_9eSBq",
    "outputId": "2f254290-b8f7-413d-f3e5-926262796cf5"
   },
   "outputs": [
    {
     "name": "stdout",
     "output_type": "stream",
     "text": [
      "True False\n"
     ]
    }
   ],
   "source": [
    "print(is_numeric(7), is_numeric('Blue'))"
   ]
  },
  {
   "cell_type": "markdown",
   "metadata": {
    "id": "vN45Bc98eTOK"
   },
   "source": [
    "---\n",
    "## STEP3. Make a __Question__ class\n",
    "- <font color='blue'>*Constructors* in python\n",
    "  - Instantiating an object.  \n",
    "  - Initialize to the data members of the class when an object of class is created\n",
    "- <font color='blue'>*__ repr __ function* in python\n",
    "  - Returns the object representation in string format."
   ]
  },
  {
   "cell_type": "code",
   "execution_count": 7,
   "metadata": {
    "id": "bJpsdyOmebUy"
   },
   "outputs": [],
   "source": [
    "# We need one question on each node\n",
    "class Question:\n",
    "    ## Constructor\n",
    "    def __init__(self, column, value):\n",
    "        self.column = column\n",
    "        self.value = value\n",
    "        \n",
    "    # We need this function to split the rows based on the question\n",
    "    def compare_with_question(self, example):\n",
    "        '''\n",
    "        Arguments:\n",
    "        example -- List of row data (EX. ['Blue', 2, 'Blueberry'])\n",
    "        '''\n",
    "        \n",
    "        val = example[self.column]\n",
    "\n",
    "        if is_numeric(val):\n",
    "            return val >= self.value\n",
    "        else:\n",
    "            return val == self.value\n",
    "    ## Python __repr__() function returns the object representation in string format.\n",
    "    def __repr__(self):\n",
    "        condition = \"==\"\n",
    "        \n",
    "        if is_numeric(self.value):\n",
    "            condition = \">=\"\n",
    "        return \"Is {} {} {}?\".format(columns[self.column], condition, str(self.value))"
   ]
  },
  {
   "cell_type": "markdown",
   "metadata": {
    "id": "vGQJ7hRcRST1"
   },
   "source": [
    "### 💁‍♀️ : Let's implement __Quesetion__ class!"
   ]
  },
  {
   "cell_type": "code",
   "execution_count": 8,
   "metadata": {
    "id": "TH3hVbQRgFnS"
   },
   "outputs": [
    {
     "data": {
      "text/plain": [
       "Is diameter >= 3?"
      ]
     },
     "execution_count": 8,
     "metadata": {},
     "output_type": "execute_result"
    }
   ],
   "source": [
    "Question(1, 3)"
   ]
  },
  {
   "cell_type": "code",
   "execution_count": 9,
   "metadata": {
    "id": "SrRTh83rgWlO"
   },
   "outputs": [
    {
     "data": {
      "text/plain": [
       "Is color == Green?"
      ]
     },
     "execution_count": 9,
     "metadata": {},
     "output_type": "execute_result"
    }
   ],
   "source": [
    "Question(0, 'Green')"
   ]
  },
  {
   "cell_type": "markdown",
   "metadata": {
    "id": "pQSqQLrDS01A"
   },
   "source": [
    "-----\n",
    "## STEP4. Let's make __partition__ function!"
   ]
  },
  {
   "cell_type": "code",
   "execution_count": 10,
   "metadata": {
    "id": "HUviIJoDgRwR"
   },
   "outputs": [],
   "source": [
    "# Split the data based on the question\n",
    "# Partition function\n",
    "def partition(rows, question):\n",
    "    \"\"\"Partitions a dataset\n",
    "    Arguments:\n",
    "    rows -- List of row data\n",
    "    question -- An object of Question class\n",
    "    \"\"\"\n",
    "    \n",
    "    true_rows, false_rows = [], []\n",
    "    \n",
    "    for row in rows:\n",
    "        if question.compare_with_question(row):\n",
    "            true_rows.append(row)\n",
    "        else:\n",
    "            false_rows.append(row)\n",
    "    return true_rows, false_rows"
   ]
  },
  {
   "cell_type": "markdown",
   "metadata": {
    "id": "XYWFmQd7RvqV"
   },
   "source": [
    "### 💁‍♀️ : If we partition __'train_data'__ with a question  <font color='red'>\"Is color == Red🖍\",<font color='black'> what is the true_rows and false_rows? "
   ]
  },
  {
   "cell_type": "code",
   "execution_count": 11,
   "metadata": {
    "id": "w6WOU0weha3G"
   },
   "outputs": [],
   "source": [
    "true_rows, false_rows = partition(train_data, Question(0, 'Red'))"
   ]
  },
  {
   "cell_type": "code",
   "execution_count": 12,
   "metadata": {
    "id": "1swVXaGzhlC_"
   },
   "outputs": [
    {
     "name": "stdout",
     "output_type": "stream",
     "text": [
      "The true_rows\n",
      " ===>  [['Red', 1, 'Grape'], ['Red', 1, 'Grape']] \n",
      "The false_rows\n",
      " ===>  [['Green', 3, 'Apple'], ['Yellow', 3, 'Apple'], ['Yellow', 3, 'Lemon'], ['Yellow', 4, 'Lemon']]\n"
     ]
    }
   ],
   "source": [
    "print(\"The true_rows\\n ===> \", true_rows, \"\\nThe false_rows\\n ===> \", false_rows)"
   ]
  },
  {
   "cell_type": "markdown",
   "metadata": {
    "id": "Gm-Tn0oOTMpo"
   },
   "source": [
    "----\n",
    "## STEP5. Let's calculate __\"Entropy\"__"
   ]
  },
  {
   "cell_type": "code",
   "execution_count": 13,
   "metadata": {
    "id": "TxuMWIcTCCfq"
   },
   "outputs": [],
   "source": [
    "import numpy as np\n",
    "from math import log2, e"
   ]
  },
  {
   "cell_type": "code",
   "execution_count": 14,
   "metadata": {
    "id": "h2ZyAwbtGeua"
   },
   "outputs": [],
   "source": [
    "## JUST RUN IT!\n",
    "def entropy(labels, base=None):\n",
    "    \"\"\" Computes entropy of label distribution. \n",
    "    Arguments:\n",
    "    labels -- Lists of data's label \n",
    "    \"\"\"\n",
    "    \n",
    "    n_labels = len(labels)\n",
    "    if n_labels <= 1:\n",
    "        return 0\n",
    "    \n",
    "    counts = class_counts(labels) # return \"dict{class_label : counts}\"\n",
    "    probs = [counts[key]/n_labels for key in counts.keys()]\n",
    "    \n",
    "    n_classes = np.count_nonzero(probs)\n",
    "    \n",
    "    if n_classes <= 1:\n",
    "        return 0\n",
    "    \n",
    "    ent = 0.\n",
    "\n",
    "  # Compute entropy\n",
    "  # base = e if base is None else base\n",
    "    for i in probs:\n",
    "        ent -= i * log2(i)\n",
    "        \n",
    "    return ent"
   ]
  },
  {
   "cell_type": "markdown",
   "metadata": {
    "id": "g6eP-TJ8TpeY"
   },
   "source": [
    "### 💁‍♀️ : In ___pure dataset___, how much entropy value did you get?"
   ]
  },
  {
   "cell_type": "code",
   "execution_count": 15,
   "metadata": {
    "id": "ja47hORNF8KL"
   },
   "outputs": [
    {
     "data": {
      "text/plain": [
       "0"
      ]
     },
     "execution_count": 15,
     "metadata": {},
     "output_type": "execute_result"
    }
   ],
   "source": [
    "## Pure case\n",
    "pure = [['Apple'],\n",
    "        ['Apple']]\n",
    "\n",
    "# this will return 0\n",
    "entropy(pure)"
   ]
  },
  {
   "cell_type": "markdown",
   "metadata": {
    "id": "impPztcMT2Ut"
   },
   "source": [
    "### 💁‍♀️ : In ___impure dataset___, how much entropy value did you get?"
   ]
  },
  {
   "cell_type": "code",
   "execution_count": 16,
   "metadata": {
    "id": "xC6rOBy_F52x"
   },
   "outputs": [
    {
     "data": {
      "text/plain": [
       "1.0"
      ]
     },
     "execution_count": 16,
     "metadata": {},
     "output_type": "execute_result"
    }
   ],
   "source": [
    "## Impure case\n",
    "impure = [['Apple'],\n",
    "          ['Orange']]\n",
    "\n",
    "entropy(impure)"
   ]
  },
  {
   "cell_type": "code",
   "execution_count": 17,
   "metadata": {
    "id": "0ZEYqRPiLXbY"
   },
   "outputs": [
    {
     "data": {
      "text/plain": [
       "2.321928094887362"
      ]
     },
     "execution_count": 17,
     "metadata": {},
     "output_type": "execute_result"
    }
   ],
   "source": [
    "# Now, we'll look at a dataset with many different labels\n",
    "impure = [['Apple'],\n",
    "          ['Orange'],\n",
    "          ['Grape'],\n",
    "          ['Grapefruit'],\n",
    "          ['Blueberry']]\n",
    "\n",
    "# This will return 2.32\n",
    "entropy(impure)"
   ]
  },
  {
   "cell_type": "markdown",
   "metadata": {
    "id": "H5rVwgPIZtSi"
   },
   "source": [
    "----\n",
    "## STEP6. Let's calculate __information gain__"
   ]
  },
  {
   "cell_type": "code",
   "execution_count": 18,
   "metadata": {
    "id": "1L71ksDnMWsk"
   },
   "outputs": [],
   "source": [
    "# Information Gain\n",
    "def info_gain(left, right, current_uncertainty):\n",
    "    \"\"\"Information Gain.\n",
    "\n",
    "    IG = The uncertainty of the starting node - the weighted impurity of two child nodes.\n",
    "    \"\"\"\n",
    "    p = float(len(left)) / (len(left) + len(right))\n",
    "    \n",
    "    print(\"(1) Avg of Impurity = {:.4f} * {:.4f} + {:.4f} * {:.4f}\".format(p, entropy(left), \n",
    "                                                                           (1-p), entropy(right)))\n",
    "    print(\"(2) Current uncertainty = {:.4f}\".format(current_uncertainty))\n",
    "\n",
    "    IG = current_uncertainty - ( p * entropy(left) + (1-p) * entropy(right))\n",
    "    \n",
    "    print(\"(3) Information gain = {:.4f} - ({:.4f} * {:.4f} + {:.4f} * {:.4f})= {:.4f}\\n\".\n",
    "          format(current_uncertainty, p, entropy(left), 1-p, entropy(right), IG))\n",
    "\n",
    "    return IG"
   ]
  },
  {
   "cell_type": "code",
   "execution_count": 19,
   "metadata": {
    "id": "WmUxotZYOUmE"
   },
   "outputs": [
    {
     "name": "stdout",
     "output_type": "stream",
     "text": [
      "\n",
      "Current uncertainty ===> 1.5850\n"
     ]
    }
   ],
   "source": [
    "# Entropy at the current node\n",
    "current_uncertainty = entropy(train_data)\n",
    "print(\"\\nCurrent uncertainty ===> {:.4f}\".format(current_uncertainty))"
   ]
  },
  {
   "cell_type": "markdown",
   "metadata": {
    "id": "eseenzHmRYDN"
   },
   "source": [
    "### 💁‍♀️ : How much information do we gain <font color='green'>by partitioning on 'Green'?"
   ]
  },
  {
   "cell_type": "code",
   "execution_count": 20,
   "metadata": {
    "id": "NEfLUdKPRfO9"
   },
   "outputs": [
    {
     "name": "stdout",
     "output_type": "stream",
     "text": [
      "Question?  Is color == Green?\n",
      "True_rows ===> [['Green', 3, 'Apple']]\n",
      "False rows ===> [['Yellow', 3, 'Apple'], ['Red', 1, 'Grape'], ['Red', 1, 'Grape'], ['Yellow', 3, 'Lemon'], ['Yellow', 4, 'Lemon']]\n",
      "\n",
      "(1) Avg of Impurity = 0.1667 * 0.0000 + 0.8333 * 1.5219\n",
      "(2) Current uncertainty = 1.5850\n",
      "(3) Information gain = 1.5850 - (0.1667 * 0.0000 + 0.8333 * 1.5219)= 0.3167\n",
      "\n",
      "\n",
      "The information gain by partitioning on \"Green\" is 0.3167\n"
     ]
    }
   ],
   "source": [
    "# Information gain for “color==Green”\n",
    "print('Question? ', Question(0, 'Green'))\n",
    "\n",
    "true_rows, false_rows = partition(train_data, Question(0, 'Green'))\n",
    "print(\"True_rows ===> {}\".format(true_rows))\n",
    "print(\"False rows ===> {}\\n\".format(false_rows))\n",
    "\n",
    "print(\"\\nThe information gain by partitioning on \\\"Green\\\" is {:.4f}\".format(info_gain(true_rows, false_rows, current_uncertainty)))"
   ]
  },
  {
   "cell_type": "markdown",
   "metadata": {
    "id": "wE9u5eG6cZAX"
   },
   "source": [
    "### 💁‍♀️: How much information do we gain <font color='blue'>by partitioning on __diameter >= 3__?"
   ]
  },
  {
   "cell_type": "code",
   "execution_count": 21,
   "metadata": {
    "id": "6UHPyeISRW7D"
   },
   "outputs": [
    {
     "name": "stdout",
     "output_type": "stream",
     "text": [
      "Question?  Is diameter >= 3?\n",
      "True_rows ===> [['Green', 3, 'Apple'], ['Yellow', 3, 'Apple'], ['Yellow', 3, 'Lemon'], ['Yellow', 4, 'Lemon']]\n",
      "False rows ===> [['Red', 1, 'Grape'], ['Red', 1, 'Grape']]\n",
      "\n",
      "(1) Avg of Impurity = 0.6667 * 1.0000 + 0.3333 * 0.0000\n",
      "(2) Current uncertainty = 1.5850\n",
      "(3) Information gain = 1.5850 - (0.6667 * 1.0000 + 0.3333 * 0.0000)= 0.9183\n",
      "\n",
      "\n",
      "The information gain by partitioning on \"diameter >= 3\" is 0.9183\n"
     ]
    }
   ],
   "source": [
    "# Information gain for “Diameter >= 3”\n",
    "print('Question? ', Question(1, 3))\n",
    "\n",
    "true_rows, false_rows = partition(train_data, Question(1, 3))\n",
    "print(\"True_rows ===> {}\".format(true_rows))\n",
    "print(\"False rows ===> {}\\n\".format(false_rows))\n",
    "\n",
    "print(\"\\nThe information gain by partitioning on \\\"diameter >= 3\\\" is {:.4f}\".format(info_gain(true_rows, false_rows, current_uncertainty)))"
   ]
  },
  {
   "cell_type": "markdown",
   "metadata": {
    "id": "awqxBQYqc4Es"
   },
   "source": [
    "-----\n",
    "## STEP7. Find **the best split** based on ___Information Gain___"
   ]
  },
  {
   "cell_type": "code",
   "execution_count": 22,
   "metadata": {
    "id": "POGIMeNeRerp"
   },
   "outputs": [],
   "source": [
    "# Find the best split\n",
    "def find_best_split(rows):\n",
    "    best_gain = 0\n",
    "    best_question = None\n",
    "    \n",
    "    current_uncertainty = entropy(rows)\n",
    "    n_features = len(rows[0]) - 1\n",
    "    \n",
    "    for col in range(n_features):\n",
    "        \n",
    "        values = set([row[col] for row in rows])\n",
    "\n",
    "        for val in values:\n",
    "            question = Question(col, val)\n",
    "            true_rows, false_rows = partition(rows, question)\n",
    "        \n",
    "            if len(true_rows) == 0 or len(false_rows) == 0:\n",
    "                continue\n",
    "        \n",
    "            print('Qustion ====>>> ', question)\n",
    "            gain = info_gain(true_rows, false_rows, current_uncertainty)\n",
    "    \n",
    "            if gain >= best_gain:\n",
    "                best_gain, best_question = gain, question\n",
    "        \n",
    "    return best_gain, best_question"
   ]
  },
  {
   "cell_type": "code",
   "execution_count": 23,
   "metadata": {
    "id": "3LZNTERZtMKU"
   },
   "outputs": [
    {
     "name": "stdout",
     "output_type": "stream",
     "text": [
      "Qustion ====>>>  Is color == Green?\n",
      "(1) Avg of Impurity = 0.1667 * 0.0000 + 0.8333 * 1.5219\n",
      "(2) Current uncertainty = 1.5850\n",
      "(3) Information gain = 1.5850 - (0.1667 * 0.0000 + 0.8333 * 1.5219)= 0.3167\n",
      "\n",
      "Qustion ====>>>  Is color == Red?\n",
      "(1) Avg of Impurity = 0.3333 * 0.0000 + 0.6667 * 1.0000\n",
      "(2) Current uncertainty = 1.5850\n",
      "(3) Information gain = 1.5850 - (0.3333 * 0.0000 + 0.6667 * 1.0000)= 0.9183\n",
      "\n",
      "Qustion ====>>>  Is color == Yellow?\n",
      "(1) Avg of Impurity = 0.5000 * 0.9183 + 0.5000 * 0.9183\n",
      "(2) Current uncertainty = 1.5850\n",
      "(3) Information gain = 1.5850 - (0.5000 * 0.9183 + 0.5000 * 0.9183)= 0.6667\n",
      "\n",
      "Qustion ====>>>  Is diameter >= 3?\n",
      "(1) Avg of Impurity = 0.6667 * 1.0000 + 0.3333 * 0.0000\n",
      "(2) Current uncertainty = 1.5850\n",
      "(3) Information gain = 1.5850 - (0.6667 * 1.0000 + 0.3333 * 0.0000)= 0.9183\n",
      "\n",
      "Qustion ====>>>  Is diameter >= 4?\n",
      "(1) Avg of Impurity = 0.1667 * 0.0000 + 0.8333 * 1.5219\n",
      "(2) Current uncertainty = 1.5850\n",
      "(3) Information gain = 1.5850 - (0.1667 * 0.0000 + 0.8333 * 1.5219)= 0.3167\n",
      "\n",
      "The best question ====>>>>>  Is diameter >= 3?\n"
     ]
    }
   ],
   "source": [
    "# The information gain of ‘Is diameter >= 3’ is the biggest one.\n",
    "\n",
    "best_gain, best_question = find_best_split(train_data)\n",
    "\n",
    "print(\"The best question ====>>>>> \", best_question)"
   ]
  },
  {
   "cell_type": "markdown",
   "metadata": {
    "id": "_NeFidutdnZo"
   },
   "source": [
    "----\n",
    "## STEP8. Let's make a __Decision Tree!__🌲 (JUST RUN IT!)\n",
    "![image.png](data:image/png;base64,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)"
   ]
  },
  {
   "cell_type": "code",
   "execution_count": 24,
   "metadata": {
    "id": "nqPhnb_93raA"
   },
   "outputs": [],
   "source": [
    "# Make a Decision Tree\n",
    "class Leaf:\n",
    "    \"\"\"A Leaf node classifies data.\n",
    "\n",
    "    This holds a dictionary of class (e.g., \"Apple\") -> number of times\n",
    "    it appears in the rows from the training data that reach this leaf.\n",
    "    \"\"\"\n",
    "    \n",
    "    def __init__(self, rows):\n",
    "    ## 'self.predictions' is a dictionary of class counts.\n",
    "        self.predictions = class_counts(rows)"
   ]
  },
  {
   "cell_type": "code",
   "execution_count": 25,
   "metadata": {
    "id": "lvpVO3f2ziUn"
   },
   "outputs": [],
   "source": [
    "class Decision_Node:\n",
    "    \"\"\"A Decision Node asks a question.\n",
    "\n",
    "    This holds a reference to the question, and to the two child nodes.\n",
    "    \"\"\"\n",
    "    \n",
    "    def __init__(self,\n",
    "               question,\n",
    "               true_branch,\n",
    "               false_branch):\n",
    "        self.question = question\n",
    "        self.true_branch = true_branch\n",
    "        self.false_branch = false_branch"
   ]
  },
  {
   "cell_type": "code",
   "execution_count": 26,
   "metadata": {
    "id": "RkbW3tuV4bEG"
   },
   "outputs": [],
   "source": [
    "def build_tree(rows):\n",
    "    \"\"\"Builds the tree.\n",
    "    Arguments:\n",
    "    rows --- List of row data\n",
    "    \"\"\"\n",
    "    gain, question = find_best_split(rows)\n",
    "    ## If information gain is equal to 0, just return the Leaf object.\n",
    "    \n",
    "    if gain == 0:\n",
    "        return Leaf(rows)\n",
    "    \n",
    "    true_rows, false_rows = partition(rows, question)\n",
    "    \n",
    "    ## Make additional tree nodes\n",
    "    \n",
    "    true_branch = build_tree(true_rows)\n",
    "    false_branch = build_tree(false_rows)\n",
    "    return Decision_Node(question, true_branch, false_branch)"
   ]
  },
  {
   "cell_type": "code",
   "execution_count": 27,
   "metadata": {
    "id": "V22w-EXd4mb9"
   },
   "outputs": [],
   "source": [
    "def print_tree(node, spacing=\"\"):\n",
    "    \"\"\"Tree printing function.\"\"\"\n",
    "\n",
    "    # Base case: we've reached a leaf\n",
    "    if isinstance(node, Leaf):\n",
    "        print (spacing + \"Predict\", node.predictions)\n",
    "        return\n",
    "\n",
    "    # Print the question at this node\n",
    "    print (spacing + str(node.question))\n",
    "\n",
    "    # Call this function recursively on the true branch\n",
    "    print (spacing + '--> True:')\n",
    "    print_tree(node.true_branch, spacing + \"  \")\n",
    "\n",
    "    # Call this function recursively on the false branch\n",
    "    print (spacing + '--> False:')\n",
    "    print_tree(node.false_branch, spacing + \"  \")"
   ]
  },
  {
   "cell_type": "markdown",
   "metadata": {
    "id": "aNvXYxK9iRRC"
   },
   "source": [
    "### 💁‍♀️ : Let's build one _Decision Tree_ !"
   ]
  },
  {
   "cell_type": "code",
   "execution_count": 28,
   "metadata": {
    "id": "ulfQhYR65yzT"
   },
   "outputs": [
    {
     "name": "stdout",
     "output_type": "stream",
     "text": [
      "Qustion ====>>>  Is color == Green?\n",
      "(1) Avg of Impurity = 0.1667 * 0.0000 + 0.8333 * 1.5219\n",
      "(2) Current uncertainty = 1.5850\n",
      "(3) Information gain = 1.5850 - (0.1667 * 0.0000 + 0.8333 * 1.5219)= 0.3167\n",
      "\n",
      "Qustion ====>>>  Is color == Red?\n",
      "(1) Avg of Impurity = 0.3333 * 0.0000 + 0.6667 * 1.0000\n",
      "(2) Current uncertainty = 1.5850\n",
      "(3) Information gain = 1.5850 - (0.3333 * 0.0000 + 0.6667 * 1.0000)= 0.9183\n",
      "\n",
      "Qustion ====>>>  Is color == Yellow?\n",
      "(1) Avg of Impurity = 0.5000 * 0.9183 + 0.5000 * 0.9183\n",
      "(2) Current uncertainty = 1.5850\n",
      "(3) Information gain = 1.5850 - (0.5000 * 0.9183 + 0.5000 * 0.9183)= 0.6667\n",
      "\n",
      "Qustion ====>>>  Is diameter >= 3?\n",
      "(1) Avg of Impurity = 0.6667 * 1.0000 + 0.3333 * 0.0000\n",
      "(2) Current uncertainty = 1.5850\n",
      "(3) Information gain = 1.5850 - (0.6667 * 1.0000 + 0.3333 * 0.0000)= 0.9183\n",
      "\n",
      "Qustion ====>>>  Is diameter >= 4?\n",
      "(1) Avg of Impurity = 0.1667 * 0.0000 + 0.8333 * 1.5219\n",
      "(2) Current uncertainty = 1.5850\n",
      "(3) Information gain = 1.5850 - (0.1667 * 0.0000 + 0.8333 * 1.5219)= 0.3167\n",
      "\n",
      "Qustion ====>>>  Is color == Green?\n",
      "(1) Avg of Impurity = 0.2500 * 0.0000 + 0.7500 * 0.9183\n",
      "(2) Current uncertainty = 1.0000\n",
      "(3) Information gain = 1.0000 - (0.2500 * 0.0000 + 0.7500 * 0.9183)= 0.3113\n",
      "\n",
      "Qustion ====>>>  Is color == Yellow?\n",
      "(1) Avg of Impurity = 0.7500 * 0.9183 + 0.2500 * 0.0000\n",
      "(2) Current uncertainty = 1.0000\n",
      "(3) Information gain = 1.0000 - (0.7500 * 0.9183 + 0.2500 * 0.0000)= 0.3113\n",
      "\n",
      "Qustion ====>>>  Is diameter >= 4?\n",
      "(1) Avg of Impurity = 0.2500 * 0.0000 + 0.7500 * 0.9183\n",
      "(2) Current uncertainty = 1.0000\n",
      "(3) Information gain = 1.0000 - (0.2500 * 0.0000 + 0.7500 * 0.9183)= 0.3113\n",
      "\n",
      "Qustion ====>>>  Is color == Green?\n",
      "(1) Avg of Impurity = 0.3333 * 0.0000 + 0.6667 * 1.0000\n",
      "(2) Current uncertainty = 0.9183\n",
      "(3) Information gain = 0.9183 - (0.3333 * 0.0000 + 0.6667 * 1.0000)= 0.2516\n",
      "\n",
      "Qustion ====>>>  Is color == Yellow?\n",
      "(1) Avg of Impurity = 0.6667 * 1.0000 + 0.3333 * 0.0000\n",
      "(2) Current uncertainty = 0.9183\n",
      "(3) Information gain = 0.9183 - (0.6667 * 1.0000 + 0.3333 * 0.0000)= 0.2516\n",
      "\n",
      "<class '__main__.Decision_Node'>\n"
     ]
    }
   ],
   "source": [
    "my_tree = build_tree(train_data)\n",
    "print(type(my_tree))"
   ]
  },
  {
   "cell_type": "markdown",
   "metadata": {
    "id": "inQvRlHFiZom"
   },
   "source": [
    "### 💁‍♀️ : Let's print our ___Decision tree___ !"
   ]
  },
  {
   "cell_type": "code",
   "execution_count": 29,
   "metadata": {
    "id": "HpjC7Z0B51ya"
   },
   "outputs": [
    {
     "name": "stdout",
     "output_type": "stream",
     "text": [
      "<class '__main__.Decision_Node'>\n"
     ]
    }
   ],
   "source": [
    "print(type(my_tree))"
   ]
  },
  {
   "cell_type": "markdown",
   "metadata": {
    "id": "Vcyc5dmTikhG"
   },
   "source": [
    "### 💁‍♀️ : Which results do you get when you classify ___'train_data[0]'___,?"
   ]
  },
  {
   "cell_type": "code",
   "execution_count": 30,
   "metadata": {
    "id": "D696fVUq54II"
   },
   "outputs": [],
   "source": [
    "def classify(row, node):\n",
    "    ## If this node is Leaf, return predicted results.\n",
    "    if isinstance(node, Leaf):\n",
    "        return node.predictions  ## If you don't know what data is returned, Check \"Leaf\" class!\n",
    "    \n",
    "    if node.question.compare_with_question(row):\n",
    "        return classify(row, node.true_branch)\n",
    "    else:\n",
    "        return classify(row, node.false_branch)"
   ]
  },
  {
   "cell_type": "code",
   "execution_count": 31,
   "metadata": {
    "id": "MVPQVJnw6VzG"
   },
   "outputs": [
    {
     "data": {
      "text/plain": [
       "{'Apple': 1}"
      ]
     },
     "execution_count": 31,
     "metadata": {},
     "output_type": "execute_result"
    }
   ],
   "source": [
    "## Return the each class counts\n",
    "classify(train_data[0], my_tree)"
   ]
  },
  {
   "cell_type": "markdown",
   "metadata": {
    "id": "2STEkLgOjXKW"
   },
   "source": [
    "### 💁‍♀️ : Then, Which class is ___'train_data[0]'___ classified into?"
   ]
  },
  {
   "cell_type": "code",
   "execution_count": 32,
   "metadata": {
    "id": "iBNXkE446XQw"
   },
   "outputs": [],
   "source": [
    "def print_leaf(counts):\n",
    "    \"\"\"A nicer way to print the predictions at a leaf.\"\"\"\n",
    "    total = sum(counts.values()) * 1.0\n",
    "    probs = {}\n",
    "\n",
    "    for lbl in counts.keys():\n",
    "        probs[lbl] = str(int(counts[lbl] / total * 100)) + \"%\"\n",
    "        \n",
    "    return probs"
   ]
  },
  {
   "cell_type": "code",
   "execution_count": 33,
   "metadata": {
    "id": "6dpeJFYFBHjo"
   },
   "outputs": [
    {
     "data": {
      "text/plain": [
       "{'Apple': '100%'}"
      ]
     },
     "execution_count": 33,
     "metadata": {},
     "output_type": "execute_result"
    }
   ],
   "source": [
    "print_leaf(classify(train_data[0], my_tree))"
   ]
  },
  {
   "cell_type": "markdown",
   "metadata": {
    "id": "J8t_V5Ggj7im"
   },
   "source": [
    "### ==> _If color is yellow and diameter is 3_, this fruit is predicted 100% 🍎."
   ]
  },
  {
   "cell_type": "markdown",
   "metadata": {
    "id": "IJ_NRVr-kLke"
   },
   "source": [
    "-----\n",
    "## STEP9. Let's test based on our _**Decision Tree**_"
   ]
  },
  {
   "cell_type": "code",
   "execution_count": 34,
   "metadata": {
    "id": "yZE7yVAGENq2"
   },
   "outputs": [],
   "source": [
    "#  Test Decision Tree\n",
    "testing_data = [\n",
    "    ['Green', 3, 'Apple'],\n",
    "    ['Yellow', 4, 'Apple'],\n",
    "    ['Red', 2, 'Grape'],\n",
    "    ['Red', 1, 'Grape'],\n",
    "    ['Yellow', 3, 'Lemon'],\n",
    "]"
   ]
  },
  {
   "cell_type": "code",
   "execution_count": 35,
   "metadata": {
    "id": "KZn-DWalE2SH"
   },
   "outputs": [
    {
     "name": "stdout",
     "output_type": "stream",
     "text": [
      "Actual: Apple. Predicted: {'Apple': '100%'}\n",
      "Actual: Apple. Predicted: {'Lemon': '100%'}\n",
      "Actual: Grape. Predicted: {'Grape': '100%'}\n",
      "Actual: Grape. Predicted: {'Grape': '100%'}\n",
      "Actual: Lemon. Predicted: {'Apple': '50%', 'Lemon': '50%'}\n"
     ]
    }
   ],
   "source": [
    "for row in testing_data:\n",
    "    print (\"Actual: %s. Predicted: %s\" %\n",
    "           (row[-1], print_leaf(classify(row, my_tree))))"
   ]
  },
  {
   "cell_type": "markdown",
   "metadata": {
    "id": "Ec0DyzFw9scX"
   },
   "source": [
    "##STEP10. Visualize the decision tree with library"
   ]
  },
  {
   "cell_type": "code",
   "execution_count": 36,
   "metadata": {
    "id": "CWzAw2Oq0-HZ"
   },
   "outputs": [],
   "source": [
    "# Decision Tree with sklearn\n",
    "from pandas import DataFrame\n",
    "\n",
    "train_df = DataFrame(testing_data)\n",
    "train_df.columns = ['color', 'diameter', 'fruit']"
   ]
  },
  {
   "cell_type": "code",
   "execution_count": 37,
   "metadata": {
    "id": "_LNufvb2hPZb"
   },
   "outputs": [],
   "source": [
    "from sklearn.preprocessing import LabelEncoder\n",
    "\n",
    "## You don't have to understand it. Just run it.\n",
    "encoder = LabelEncoder()\n",
    "train_df['color'] = encoder.fit_transform(train_df['color'])"
   ]
  },
  {
   "cell_type": "code",
   "execution_count": 38,
   "metadata": {
    "id": "t_LUDI1oE4xo"
   },
   "outputs": [
    {
     "data": {
      "text/plain": [
       "[Text(0.3333333333333333, 0.875, 'diameter <= 2.5\\nentropy = 1.522\\nsamples = 100.0%\\nvalue = [0.4, 0.4, 0.2]'),\n",
       " Text(0.16666666666666666, 0.625, 'entropy = 0.0\\nsamples = 40.0%\\nvalue = [0.0, 1.0, 0.0]'),\n",
       " Text(0.5, 0.625, 'color <= 1.0\\nentropy = 0.918\\nsamples = 60.0%\\nvalue = [0.667, 0.0, 0.333]'),\n",
       " Text(0.3333333333333333, 0.375, 'entropy = 0.0\\nsamples = 20.0%\\nvalue = [1.0, 0.0, 0.0]'),\n",
       " Text(0.6666666666666666, 0.375, 'diameter <= 3.5\\nentropy = 1.0\\nsamples = 40.0%\\nvalue = [0.5, 0.0, 0.5]'),\n",
       " Text(0.5, 0.125, 'entropy = 0.0\\nsamples = 20.0%\\nvalue = [0.0, 0.0, 1.0]'),\n",
       " Text(0.8333333333333334, 0.125, 'entropy = 0.0\\nsamples = 20.0%\\nvalue = [1.0, 0.0, 0.0]')]"
      ]
     },
     "execution_count": 38,
     "metadata": {},
     "output_type": "execute_result"
    },
    {
     "data": {
      "image/png": "[encoded data removed]",
      "text/plain": [
       "<Figure size 864x864 with 1 Axes>"
      ]
     },
     "metadata": {
      "needs_background": "light"
     },
     "output_type": "display_data"
    }
   ],
   "source": [
    "from sklearn.tree import DecisionTreeClassifier\n",
    "import matplotlib.pyplot as plt\n",
    "import sklearn\n",
    "\n",
    "decisionTree = DecisionTreeClassifier(random_state=0, criterion = \"entropy\")\n",
    "decisionTree.fit(train_df.iloc[:, 0:2], train_df.iloc[:, 2])\n",
    "\n",
    "plt.figure(figsize=(12,12))\n",
    "sklearn.tree.plot_tree(decisionTree, filled=True, feature_names=[\"color\", \"diameter\"],proportion=True)"
   ]
  },
  {
   "cell_type": "markdown",
   "metadata": {},
   "source": [
    "HW_8 by 22000690 정이주\n",
    "\n",
    "1. Objective : Classification\n",
    "\n",
    "2. Input\n",
    "\n",
    "  * mnist.pkl\n",
    "\n",
    "3. Output\n",
    "\n",
    "  * rforest test score\n",
    "  * decisionTree test score\n",
    "  * decision tree\n",
    "  * random forest"
   ]
  },
  {
   "cell_type": "markdown",
   "metadata": {},
   "source": [
    "### student code\n",
    "## STEP1. Load MNIST data and split into train and test data"
   ]
  },
  {
   "cell_type": "code",
   "execution_count": 1,
   "metadata": {},
   "outputs": [
    {
     "name": "stdout",
     "output_type": "stream",
     "text": [
      "... loading data\n"
     ]
    }
   ],
   "source": [
    "import pickle\n",
    "import pandas as pd\n",
    "import numpy as np\n",
    "import matplotlib.pyplot as plt\n",
    "\n",
    "print('... loading data')\n",
    "with open('mnist.pkl', 'rb') as f:  # open file\n",
    "    train_set, valid_set, test_set = pickle.load(f, encoding='latin1')"
   ]
  },
  {
   "cell_type": "code",
   "execution_count": 2,
   "metadata": {},
   "outputs": [],
   "source": [
    "# make data set\n",
    "train_x, train_y = train_set\n",
    "test_x, test_y = test_set\n",
    "\n",
    "train_x = pd.DataFrame(train_x)\n",
    "train_y = pd.DataFrame(train_y, columns=['label']) # get data column name is 'label'\n",
    "test_x = pd.DataFrame(test_x)\n",
    "test_y = pd.DataFrame(test_y, columns=['label']) # get data column name is 'label'"
   ]
  },
  {
   "cell_type": "code",
   "execution_count": 3,
   "metadata": {},
   "outputs": [],
   "source": [
    "sub_train_x = train_x.iloc[:500, :]\n",
    "sub_train_y = train_y.iloc[:500]\n",
    "sub_test_x = test_x.iloc[:100, :]\n",
    "sub_test_y = test_y.iloc[:100, :]"
   ]
  },
  {
   "cell_type": "markdown",
   "metadata": {},
   "source": [
    "----\n",
    "## STEP2 Classify MNIST data using __Decision Tree__🌲 sklearn library "
   ]
  },
  {
   "cell_type": "code",
   "execution_count": 4,
   "metadata": {},
   "outputs": [
    {
     "data": {
      "text/plain": [
       "DecisionTreeClassifier(criterion='entropy', random_state=0)"
      ]
     },
     "execution_count": 4,
     "metadata": {},
     "output_type": "execute_result"
    }
   ],
   "source": [
    "from sklearn.tree import DecisionTreeClassifier\n",
    "\n",
    "decisionTree = DecisionTreeClassifier(random_state=0, criterion=\"entropy\")\n",
    "decisionTree.fit(train_x, train_y)"
   ]
  },
  {
   "cell_type": "code",
   "execution_count": 5,
   "metadata": {},
   "outputs": [
    {
     "name": "stdout",
     "output_type": "stream",
     "text": [
      "=== > Test set score : 0.88\n"
     ]
    }
   ],
   "source": [
    "print(\"=== > Test set score : {:.2f}\".format(decisionTree.score(test_x, test_y)))"
   ]
  },
  {
   "cell_type": "markdown",
   "metadata": {},
   "source": [
    "---\n",
    "## STEP3 Classify MNIST data using __Random Forest__🌲 sklearn library "
   ]
  },
  {
   "cell_type": "code",
   "execution_count": 6,
   "metadata": {},
   "outputs": [
    {
     "name": "stderr",
     "output_type": "stream",
     "text": [
      "/var/folders/bl/x_6zsqdn3f33x78knpgzrqvw0000gn/T/ipykernel_978/1948550655.py:5: DataConversionWarning: A column-vector y was passed when a 1d array was expected. Please change the shape of y to (n_samples,), for example using ravel().\n",
      "  rforest.fit(train_x, train_y)\n"
     ]
    },
    {
     "data": {
      "text/plain": [
       "RandomForestClassifier(random_state=0)"
      ]
     },
     "execution_count": 6,
     "metadata": {},
     "output_type": "execute_result"
    }
   ],
   "source": [
    "from sklearn.ensemble import RandomForestClassifier\n",
    "\n",
    "## YOUR CODE STARTS HERE\n",
    "rforest = RandomForestClassifier(random_state=0)\n",
    "rforest.fit(train_x, train_y)"
   ]
  },
  {
   "cell_type": "code",
   "execution_count": 7,
   "metadata": {},
   "outputs": [
    {
     "name": "stdout",
     "output_type": "stream",
     "text": [
      "Test set score : 0.97\n"
     ]
    }
   ],
   "source": [
    "print(\"Test set score : {:.2f}\".format(rforest.score(test_x, test_y)))"
   ]
  },
  {
   "cell_type": "markdown",
   "metadata": {},
   "source": [
    "-----\n",
    "## STEP4 Visualization of result"
   ]
  },
  {
   "cell_type": "code",
   "execution_count": 8,
   "metadata": {},
   "outputs": [
    {
     "data": {
      "image/png": "[encoded data removed]",
      "text/plain": [
       "<Figure size 720x504 with 2 Axes>"
      ]
     },
     "metadata": {
      "needs_background": "light"
     },
     "output_type": "display_data"
    }
   ],
   "source": [
    "from sklearn.metrics import confusion_matrix\n",
    "import seaborn as sn\n",
    "\n",
    "# decision tree show\n",
    "pred_y = decisionTree.predict(test_x) # decisionTree predict\n",
    "cmdtree = confusion_matrix(test_y, pred_y)\n",
    "\n",
    "plt.figure(figsize=(10,7))\n",
    "sn.heatmap(cmdtree, annot=True, fmt='d')\n",
    "\n",
    "plt.title(\" < CONFUSION MATRIX > \")\n",
    "plt.ylabel('Predicted label')\n",
    "plt.xlabel('True Label')\n",
    "\n",
    "plt.show()"
   ]
  },
  {
   "cell_type": "code",
   "execution_count": 9,
   "metadata": {},
   "outputs": [
    {
     "data": {
      "image/png": "[encoded data removed]",
      "text/plain": [
       "<Figure size 720x504 with 2 Axes>"
      ]
     },
     "metadata": {
      "needs_background": "light"
     },
     "output_type": "display_data"
    }
   ],
   "source": [
    "from sklearn.metrics import confusion_matrix\n",
    "import seaborn as sn\n",
    "\n",
    "# rforest show\n",
    "pred_y = rforest.predict(test_x)  # rforest predict\n",
    "rtree_cmd = confusion_matrix(test_y, pred_y)\n",
    "\n",
    "plt.figure(figsize = (10, 7))\n",
    "sn.heatmap(rtree_cmd, annot=True, fmt='d')\n",
    "\n",
    "plt.title(\" < CONFUSION MATRIX > \")\n",
    "plt.ylabel('Predicted label')\n",
    "plt.xlabel('True Label')\n",
    "\n",
    "plt.show()"
   ]
  },
  {
   "cell_type": "code",
   "execution_count": null,
   "metadata": {},
   "outputs": [],
   "source": []
  },
  {
   "cell_type": "code",
   "execution_count": null,
   "metadata": {},
   "outputs": [],
   "source": []
  },
  {
   "cell_type": "code",
   "execution_count": null,
   "metadata": {},
   "outputs": [],
   "source": []
  }
 ],
 "metadata": {
  "colab": {
   "authorship_tag": "ABX9TyMm9ga1fcMcqDsMqyflWSHW",
   "collapsed_sections": [],
   "name": "decision_tree_scratch_studnet.ipynb",
   "provenance": [],
   "toc_visible": true
  },
  "kernelspec": {
   "display_name": "Python 3 (ipykernel)",
   "language": "python",
   "name": "python3"
  },
  "language_info": {
   "codemirror_mode": {
    "name": "ipython",
    "version": 3
   },
   "file_extension": ".py",
   "mimetype": "text/x-python",
   "name": "python",
   "nbconvert_exporter": "python",
   "pygments_lexer": "ipython3",
   "version": "3.9.9"
  }
 },
 "nbformat": 4,
 "nbformat_minor": 1
}
