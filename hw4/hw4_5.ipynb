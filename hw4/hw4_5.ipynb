{
 "cells": [
  {
   "cell_type": "markdown",
   "id": "80af1bda",
   "metadata": {},
   "source": [
    "HW_4_5 by 22000690 정이주\n",
    "\n",
    "1. Objective : This code is for Visualize eigen vectors.\n",
    "\n",
    "2. Input\n",
    "\n",
    "  * Data image file (mnist.pkl)\n",
    "\n",
    "3. Output\n",
    "\n",
    "  * Visualize eigen vectors"
   ]
  },
  {
   "cell_type": "code",
   "execution_count": 16,
   "id": "e53ec8f9",
   "metadata": {},
   "outputs": [],
   "source": [
    "import matplotlib.pyplot as plt\n",
    "import numpy as np\n",
    "import pickle\n",
    "import pandas as pd"
   ]
  },
  {
   "cell_type": "code",
   "execution_count": 17,
   "id": "c8a1c1b7",
   "metadata": {},
   "outputs": [],
   "source": [
    "# Load MNIST data\n",
    "with open('mnist.pkl', 'rb') as f:\n",
    "    train_set, valid_Set, test_set = pickle.load(f, encoding = 'latin1')\n",
    "\n",
    "train_x, train_y = train_set\n",
    "test_x, test_y = test_set\n",
    "\n",
    "# Make dataframe with pandas\n",
    "train_x = pd.DataFrame(train_x)\n",
    "train_y = pd.DataFrame(train_y)\n",
    "test_x = pd.DataFrame(test_x)\n",
    "test_y = pd.DataFrame(test_y)\n",
    "\n",
    "# Multiple identical dataframe combinations\n",
    "train_data = pd.concat([train_x, train_y], axis  = 1)\n",
    "test_data = pd.concat([test_x, test_y], axis  = 1)\n",
    "\n",
    "# Dimension reduction scratch\n",
    "train_x = train_data.iloc[:,:-1]\n",
    "train_y = train_data.iloc[:,-1]\n",
    "\n",
    "# Calculate covariance matrix, eigen values and eigen vectors\n",
    "cov_matrix = np.cov(train_x.T)\n",
    "eig_val, eig_vec = np.linalg.eig(cov_matrix)\n",
    "eig_vec = eig_vec.T"
   ]
  },
  {
   "cell_type": "code",
   "execution_count": 18,
   "id": "4f4516e2",
   "metadata": {},
   "outputs": [
    {
     "data": {
      "image/png": "[encoded data removed]",
      "text/plain": [
       "<Figure size 1440x1080 with 2 Axes>"
      ]
     },
     "metadata": {
      "needs_background": "light"
     },
     "output_type": "display_data"
    }
   ],
   "source": [
    "# Choose the 2 largest eigenvectors from eig_vec\n",
    "good_vecs = eig_vec[:2].real\n",
    "\n",
    "# Figure size adjustment\n",
    "plt.figure(figsize = (20, 15))\n",
    "\n",
    "# Visualize 2 largest eigenvectors\n",
    "for i, vec in enumerate(good_vecs):\n",
    "    \n",
    "    vec = vec.T\n",
    "    vec = vec.reshape((28, 28))\n",
    "    \n",
    "    ax = plt.subplot(2, 5, i+1)\n",
    "    \n",
    "    fig = plt.imshow(vec, alpha=0.4, cmap='seismic')\n",
    "    \n"
   ]
  },
  {
   "cell_type": "code",
   "execution_count": null,
   "id": "97b28d03",
   "metadata": {},
   "outputs": [],
   "source": []
  },
  {
   "cell_type": "code",
   "execution_count": null,
   "id": "5bf632f3",
   "metadata": {},
   "outputs": [],
   "source": []
  }
 ],
 "metadata": {
  "kernelspec": {
   "display_name": "Python 3 (ipykernel)",
   "language": "python",
   "name": "python3"
  },
  "language_info": {
   "codemirror_mode": {
    "name": "ipython",
    "version": 3
   },
   "file_extension": ".py",
   "mimetype": "text/x-python",
   "name": "python",
   "nbconvert_exporter": "python",
   "pygments_lexer": "ipython3",
   "version": "3.9.9"
  }
 },
 "nbformat": 4,
 "nbformat_minor": 5
}
