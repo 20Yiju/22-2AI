{
 "cells": [
  {
   "cell_type": "markdown",
   "id": "cf310b56",
   "metadata": {},
   "source": [
    "HW_4_4 by 22000690 정이주\n",
    "\n",
    "1. Objective : This code is for Calculate covariance, Eigen value/vector.\n",
    "\n",
    "2. Input\n",
    "\n",
    "  * Data image file (mnist.pkl)\n",
    "\n",
    "3. Output\n",
    "\n",
    "  * 20 eigen values of 784 eigen values\n",
    "  * Shape of eig_val and eig_vec"
   ]
  },
  {
   "cell_type": "code",
   "execution_count": 1,
   "id": "d350b30d",
   "metadata": {},
   "outputs": [],
   "source": [
    "import pickle\n",
    "import pandas as pd\n",
    "import matplotlib.pyplot as plt\n",
    "import numpy as np"
   ]
  },
  {
   "cell_type": "code",
   "execution_count": 2,
   "id": "8a11d519",
   "metadata": {},
   "outputs": [],
   "source": [
    "# Load MNIST data\n",
    "with open('mnist.pkl', 'rb') as f:\n",
    "    train_set, valid_set, test_set = pickle.load(f, encoding = 'latin1')\n",
    "\n",
    "train_x, train_y = train_set\n",
    "test_x, test_y = test_set\n",
    "\n",
    "# Make dataframe with pandas\n",
    "train_x = pd.DataFrame(train_x)\n",
    "train_y = pd.DataFrame(train_y)\n",
    "test_x = pd.DataFrame(test_x)\n",
    "test_y = pd.DataFrame(test_y)\n",
    "\n",
    "# Multiple identical dataframe combinations\n",
    "train_data = pd.concat([train_x, train_y], axis  = 1)\n",
    "test_data = pd.concat([test_x, test_y], axis  = 1)"
   ]
  },
  {
   "cell_type": "code",
   "execution_count": 3,
   "id": "e7dd088f",
   "metadata": {},
   "outputs": [
    {
     "name": "stdout",
     "output_type": "stream",
     "text": [
      "20 eigen values of 784 eigen values:  [5.10829281 3.70097988 3.25867822 2.82008442 2.54673474 2.26446711\n",
      " 1.71820047 1.51312696 1.45150445 1.24028893 1.10062981 1.05915625\n",
      " 0.89946813 0.88164617 0.82789811 0.78254504 0.69102204 0.66920675\n",
      " 0.62200547 0.60339874]\n",
      "val:  (784,)\n",
      "vec:  (784, 784)\n"
     ]
    }
   ],
   "source": [
    "# Dimension reduction scratch\n",
    "train_x = train_data.iloc[:,:-1]\n",
    "train_y = train_data.iloc[:,-1]\n",
    "\n",
    "\n",
    "#Calculate covariance matrix, eigen values and eigen vectors\n",
    "cov_matrix = np.cov(train_x.T)\n",
    "cov_matrix = np.array(cov_matrix)\n",
    "eig_val, eig_vec = np.linalg.eig(cov_matrix)\n",
    "\n",
    "# Each column in eig_vec represents each eigen vector\n",
    "# Want row vectors, thus perform transpose operation.\n",
    "eig_vec = eig_vec.T\n",
    "print('20 eigen values of 784 eigen values: ', eig_val[:20].real)\n",
    "\n",
    "print('val: ', eig_val.shape)\n",
    "print('vec: ', eig_vec.shape)"
   ]
  },
  {
   "cell_type": "code",
   "execution_count": null,
   "id": "ceb21386",
   "metadata": {},
   "outputs": [],
   "source": []
  },
  {
   "cell_type": "code",
   "execution_count": null,
   "id": "0820ec42",
   "metadata": {},
   "outputs": [],
   "source": []
  },
  {
   "cell_type": "code",
   "execution_count": null,
   "id": "d4a6f7ef",
   "metadata": {},
   "outputs": [],
   "source": []
  }
 ],
 "metadata": {
  "kernelspec": {
   "display_name": "Python 3 (ipykernel)",
   "language": "python",
   "name": "python3"
  },
  "language_info": {
   "codemirror_mode": {
    "name": "ipython",
    "version": 3
   },
   "file_extension": ".py",
   "mimetype": "text/x-python",
   "name": "python",
   "nbconvert_exporter": "python",
   "pygments_lexer": "ipython3",
   "version": "3.9.9"
  }
 },
 "nbformat": 4,
 "nbformat_minor": 5
}
