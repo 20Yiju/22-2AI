{
 "cells": [
  {
   "cell_type": "markdown",
   "id": "cef9082e",
   "metadata": {},
   "source": [
    "HW_4_2 by 22000690 정이주\n",
    "\n",
    "1. Objective : This code is for Template matching with MNIST data\n",
    "\n",
    "2. Input\n",
    "\n",
    "  * Image data file (datasets.mnist)\n",
    "\n",
    "3. Output\n",
    "\n",
    "  * label-0 train data, label-1 train data, test data, 1st test data & label-0 train data, 1st test data & label-1 train data\n",
    "  * Num of 1s after AND with 0-label train data, Num of 1s after AND with 1-label train data\n",
    "  * Total classified result\n",
    "  * Total accuracy on test data"
   ]
  },
  {
   "cell_type": "code",
   "execution_count": 99,
   "id": "4be11a57",
   "metadata": {},
   "outputs": [],
   "source": [
    "import tensorflow as tf\n",
    "import matplotlib.pyplot as plt\n",
    "import numpy as np\n",
    "\n",
    "# Load MNIST data\n",
    "(x_train, y_train), (x_test, y_test) = tf.keras.datasets.mnist.load_data()"
   ]
  },
  {
   "cell_type": "code",
   "execution_count": 117,
   "id": "51a17883",
   "metadata": {},
   "outputs": [
    {
     "name": "stdout",
     "output_type": "stream",
     "text": [
      "Num of 1s after AND with 0-label train data: 143\n",
      "Num of 1s after AND with 1-label train data: 39\n",
      "0-label yields larger number, thus 1th test image is classfied as 0 digit.\n"
     ]
    },
    {
     "data": {
      "image/png": "[encoded data removed]",
      "text/plain": [
       "<Figure size 1080x720 with 5 Axes>"
      ]
     },
     "metadata": {
      "needs_background": "light"
     },
     "output_type": "display_data"
    }
   ],
   "source": [
    "# Label-0 train data get with index\n",
    "data_0 = x_train[1]\n",
    "# Label-1 train data get with index\n",
    "data_1 = x_train[3]\n",
    "# Test data get with index\n",
    "test = x_test[3]\n",
    "\n",
    "# Data preprocessing\n",
    "x_train, x_test = x_train / 255.0, x_test / 255.0\n",
    "x_train = x_train.reshape(-1, 28, 28, 1)\n",
    "x_test = x_test.reshape(-1, 28, 28, 1)\n",
    "\n",
    "# Test image, ‘0’ image, and also ‘1’ imag do AND operation.\n",
    "testand0 = np.logical_and(data_0.real, test.real)\n",
    "testand1 = np.logical_and(data_1.real, test.real)\n",
    "\n",
    "# Figure size adjustment\n",
    "plt.figure(figsize = (15, 10))\n",
    "plt.rc('figure', titlesize=10)\n",
    "\n",
    "# Show the each Data image\n",
    "ax = plt.subplot(2,6,1)\n",
    "plt.imshow(data_0, cmap='gray')\n",
    "plt.title('label-0 train data')\n",
    "\n",
    "# Show the each Data image\n",
    "ax = plt.subplot(2,6,2)\n",
    "plt.imshow(data_1, cmap='gray')\n",
    "plt.title('label-1 train data')\n",
    "\n",
    "# Show the each Data image\n",
    "ax = plt.subplot(2,6,3)\n",
    "plt.imshow(test, cmap='gray')\n",
    "plt.title('test data')\n",
    "\n",
    "# Show the each Data image\n",
    "ax = plt.subplot(2,6,7)\n",
    "plt.imshow(testand0, cmap='gray')\n",
    "plt.title('1st test data & label-0 train data')\n",
    "\n",
    "# Show the each Data image\n",
    "ax = plt.subplot(2,6,9)\n",
    "plt.imshow(testand1, cmap='gray')\n",
    "plt.title('1st test data & label-1 train data')\n",
    "\n",
    "# Count the Number of True \n",
    "print('Num of 1s after AND with 0-label train data: %d' %np.count_nonzero(testand0))\n",
    "print('Num of 1s after AND with 1-label train data: %d' %np.count_nonzero(testand1))\n",
    "print('0-label yields larger number, thus 1th test image is classfied as 0 digit.')"
   ]
  },
  {
   "cell_type": "code",
   "execution_count": 118,
   "id": "8c76d9f5",
   "metadata": {},
   "outputs": [
    {
     "name": "stdout",
     "output_type": "stream",
     "text": [
      "Total Accuracy on Test data is 0.0980\n"
     ]
    }
   ],
   "source": [
    "# Calculate the Accuracy of all '0' and '1' images in test set\n",
    "acc = 0\n",
    "total = 0\n",
    "\n",
    "for i in range(len(x_test)):\n",
    "    if(y_test[i]== 0 or y_test[i] == 1):  # Test only '0' and '1' images\n",
    "        \n",
    "        # Test image, ‘0’ image, and also ‘1’ imag do AND operation.\n",
    "        t0 = np.logical_and(data_0.real, x_test[i].real)\n",
    "        t1 = np.logical_and(data_0.real, x_test[i].real)\n",
    "        acc0 =np.count_nonzero(t0)\n",
    "        acc1 = np.count_nonzero(t1)\n",
    "        if(acc0 > acc1):\n",
    "            total = 0\n",
    "        if(acc0 < acc1):\n",
    "            total = 1\n",
    "        \n",
    "        # Check the prediction is true or false\n",
    "        if(total == y_test[i].astype('int64')):\n",
    "            acc += 1\n",
    "            \n",
    "# Calculate the accuracy          \n",
    "accuracy = (acc/len(x_test))\n",
    "print(\"Total Accuracy on Test data is %.4f\" %accuracy)"
   ]
  },
  {
   "cell_type": "code",
   "execution_count": null,
   "id": "adc01d46",
   "metadata": {},
   "outputs": [],
   "source": []
  },
  {
   "cell_type": "code",
   "execution_count": null,
   "id": "0a8f1ba8",
   "metadata": {},
   "outputs": [],
   "source": []
  }
 ],
 "metadata": {
  "kernelspec": {
   "display_name": "Python 3 (ipykernel)",
   "language": "python",
   "name": "python3"
  },
  "language_info": {
   "codemirror_mode": {
    "name": "ipython",
    "version": 3
   },
   "file_extension": ".py",
   "mimetype": "text/x-python",
   "name": "python",
   "nbconvert_exporter": "python",
   "pygments_lexer": "ipython3",
   "version": "3.9.9"
  }
 },
 "nbformat": 4,
 "nbformat_minor": 5
}
