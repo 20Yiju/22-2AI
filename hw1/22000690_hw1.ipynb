{
 "cells": [
  {
   "cell_type": "markdown",
   "id": "706bb700",
   "metadata": {},
   "source": [
    "HW_1 by 22000690 정이주\n",
    "\n",
    "1. Objective : This code reads number from 'input.txt' and write the sum of each row to 'output.txt' and print out the sums.\n",
    "\n",
    "2. Input\n",
    "\n",
    "  * Text file with numbers to calculate.\n",
    "\n",
    "3. Output\n",
    "\n",
    "  * output text file named \"output.txt\" , in this file the result of adding the number of each lines in the input file is saved.\n",
    "  * print out the results"
   ]
  },
  {
   "cell_type": "code",
   "execution_count": 1,
   "id": "4dc12b54",
   "metadata": {},
   "outputs": [
    {
     "name": "stdout",
     "output_type": "stream",
     "text": [
      "10.53\n",
      "9.0\n",
      "3.0\n",
      "8.0\n"
     ]
    }
   ],
   "source": [
    "ifile = open(\"input.txt\",'r')  # open the input file with numbers to calculate.\n",
    "ofile = open(\"output.txt\", 'w')  # open a file to save the result of addition.\n",
    "\n",
    "sum = 0  # variables to save results.\n",
    "\n",
    "while True:  # loop for reading each lines of input file.\n",
    "    line = ifile.readline() # read a input file in a line.\n",
    "    if not line:  # if the line is end terminate the loop.\n",
    "        break\n",
    "    num = list(map(float, line.split()))  # split by space.\n",
    "    \n",
    "    for i in range(len(num)):\n",
    "        sum += num[i]  # add the number of each line.\n",
    "    \n",
    "    print(sum) # print it out\n",
    "    ofile.write(\"%s\\n\" %str(sum))  # write the results in output file.\n",
    "\n",
    "    sum = 0  # reset the sum for another line\n",
    "\n",
    "ifile.close()  # close input file\n",
    "ofile.close()  # close output file"
   ]
  },
  {
   "cell_type": "code",
   "execution_count": null,
   "id": "a4894497",
   "metadata": {},
   "outputs": [],
   "source": []
  },
  {
   "cell_type": "code",
   "execution_count": null,
   "id": "8bd45973",
   "metadata": {},
   "outputs": [],
   "source": []
  },
  {
   "cell_type": "code",
   "execution_count": null,
   "id": "f4d76355",
   "metadata": {},
   "outputs": [],
   "source": []
  },
  {
   "cell_type": "code",
   "execution_count": null,
   "id": "dc0afa91",
   "metadata": {},
   "outputs": [],
   "source": []
  },
  {
   "cell_type": "code",
   "execution_count": null,
   "id": "ac3f9c1d",
   "metadata": {},
   "outputs": [],
   "source": []
  },
  {
   "cell_type": "code",
   "execution_count": null,
   "id": "62cc5c02",
   "metadata": {},
   "outputs": [],
   "source": []
  },
  {
   "cell_type": "code",
   "execution_count": null,
   "id": "262aeeae",
   "metadata": {},
   "outputs": [],
   "source": []
  },
  {
   "cell_type": "code",
   "execution_count": null,
   "id": "d4d5d3f2",
   "metadata": {},
   "outputs": [],
   "source": []
  },
  {
   "cell_type": "code",
   "execution_count": null,
   "id": "effbd4d3",
   "metadata": {},
   "outputs": [],
   "source": []
  }
 ],
 "metadata": {
  "kernelspec": {
   "display_name": "Python 3 (ipykernel)",
   "language": "python",
   "name": "python3"
  },
  "language_info": {
   "codemirror_mode": {
    "name": "ipython",
    "version": 3
   },
   "file_extension": ".py",
   "mimetype": "text/x-python",
   "name": "python",
   "nbconvert_exporter": "python",
   "pygments_lexer": "ipython3",
   "version": "3.9.9"
  }
 },
 "nbformat": 4,
 "nbformat_minor": 5
}
