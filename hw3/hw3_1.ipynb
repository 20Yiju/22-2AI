{
 "cells": [
  {
   "cell_type": "markdown",
   "id": "8ed9233f",
   "metadata": {},
   "source": [
    "HW_3_1 by 22000690 정이주\n",
    "\n",
    "1. Objective : This code reads titanic_train.csv and count the data that satify the several conditions.\n",
    "\n",
    "2. Input\n",
    "\n",
    "  * CSV file (titanic_train.csv)\n",
    "\n",
    "3. Output\n",
    "\n",
    "  * Count the number of survivals per sex and passenger class.\n",
    "  * Count the number of dead (non-survivals) per sex and passenger class."
   ]
  },
  {
   "cell_type": "code",
   "execution_count": 27,
   "id": "c56348a1",
   "metadata": {},
   "outputs": [],
   "source": [
    "import pandas as pd"
   ]
  },
  {
   "cell_type": "code",
   "execution_count": 28,
   "id": "f92b6eb9",
   "metadata": {},
   "outputs": [
    {
     "name": "stdout",
     "output_type": "stream",
     "text": [
      "group: ('female', 1) => 91\n",
      "group: ('female', 2) => 70\n",
      "group: ('female', 3) => 72\n",
      "group: ('male', 1) => 45\n",
      "group: ('male', 2) => 17\n",
      "group: ('male', 3) => 47\n"
     ]
    }
   ],
   "source": [
    "# read a csv file\n",
    "df = pd.read_csv('titanic_train.csv', index_col='PassengerId')\n",
    "\n",
    "# make conditions to get data that I want to see\n",
    "female = df['Sex'] == 'female'\n",
    "male = df['Sex'] == 'male'\n",
    "Pclass1 = df['Pclass'] == 1\n",
    "Pclass2 = df['Pclass'] == 2\n",
    "Pclass3 = df['Pclass'] == 3\n",
    "Survivied = df['Survived'] == 1\n",
    "\n",
    "#get the data set with several conditions\n",
    "df1_f = df[female & Pclass1 & Survivied]\n",
    "df2_f = df[female & Pclass2 & Survivied]\n",
    "df3_f = df[female & Pclass3 & Survivied]\n",
    "\n",
    "df1_m = df[male & Pclass1 & Survivied]\n",
    "df2_m = df[male & Pclass2 & Survivied]\n",
    "df3_m = df[male & Pclass3 & Survivied]\n",
    "\n",
    "#print out the results\n",
    "print(\"group: (\\'female\\', 1) => %d\" %len(df1_f))\n",
    "print(\"group: (\\'female\\', 2) => %d\" %len(df2_f))\n",
    "print(\"group: (\\'female\\', 3) => %d\" %len(df3_f))\n",
    "print(\"group: (\\'male\\', 1) => %d\" %len(df1_m))\n",
    "print(\"group: (\\'male\\', 2) => %d\" %len(df2_m))\n",
    "print(\"group: (\\'male\\', 3) => %d\" %len(df3_m))"
   ]
  },
  {
   "cell_type": "code",
   "execution_count": 29,
   "id": "7981897b",
   "metadata": {},
   "outputs": [
    {
     "name": "stdout",
     "output_type": "stream",
     "text": [
      "group: ('female', 1) => 3\n",
      "group: ('female', 2) => 6\n",
      "group: ('female', 3) => 72\n",
      "group: ('male', 1) => 77\n",
      "group: ('male', 2) => 91\n",
      "group: ('male', 3) => 300\n"
     ]
    }
   ],
   "source": [
    "# conditions for the non-survivied\n",
    "Non_Survivied = df['Survived'] == 0\n",
    "\n",
    "udf1_f = df[female & Pclass1 & Non_Survivied]\n",
    "udf2_f = df[female & Pclass2 & Non_Survivied]\n",
    "udf3_f = df[female & Pclass3 & Non_Survivied]\n",
    "\n",
    "udf1_m = df[male & Pclass1 & Non_Survivied]\n",
    "udf2_m = df[male & Pclass2 & Non_Survivied]\n",
    "udf3_m = df[male & Pclass3 & Non_Survivied]\n",
    "\n",
    "#print out the results\n",
    "print(\"group: (\\'female\\', 1) => %d\" %len(udf1_f))\n",
    "print(\"group: (\\'female\\', 2) => %d\" %len(udf2_f))\n",
    "print(\"group: (\\'female\\', 3) => %d\" %len(udf3_f))\n",
    "print(\"group: (\\'male\\', 1) => %d\" %len(udf1_m))\n",
    "print(\"group: (\\'male\\', 2) => %d\" %len(udf2_m))\n",
    "print(\"group: (\\'male\\', 3) => %d\" %len(udf3_m))"
   ]
  },
  {
   "cell_type": "code",
   "execution_count": null,
   "id": "ad1f13f5",
   "metadata": {},
   "outputs": [],
   "source": []
  }
 ],
 "metadata": {
  "kernelspec": {
   "display_name": "Python 3 (ipykernel)",
   "language": "python",
   "name": "python3"
  },
  "language_info": {
   "codemirror_mode": {
    "name": "ipython",
    "version": 3
   },
   "file_extension": ".py",
   "mimetype": "text/x-python",
   "name": "python",
   "nbconvert_exporter": "python",
   "pygments_lexer": "ipython3",
   "version": "3.9.9"
  }
 },
 "nbformat": 4,
 "nbformat_minor": 5
}
