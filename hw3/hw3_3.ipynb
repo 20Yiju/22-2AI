{
 "cells": [
  {
   "cell_type": "markdown",
   "id": "edd98efc",
   "metadata": {},
   "source": [
    "HW_3_1 by 22000690 정이주\n",
    "\n",
    "1. Objective : Output 5 words with maximum frequency from each review\n",
    "\n",
    "2. Input\n",
    "\n",
    "  * CSV file (amazon_train_df.csv)\n",
    "\n",
    "3. Output\n",
    "\n",
    "  * print the most 5 frequent words in each reviews."
   ]
  },
  {
   "cell_type": "code",
   "execution_count": 8,
   "id": "db417c8a",
   "metadata": {},
   "outputs": [
    {
     "name": "stderr",
     "output_type": "stream",
     "text": [
      "[nltk_data] Downloading package stopwords to /Users/jeong-\n",
      "[nltk_data]     yiju/nltk_data...\n",
      "[nltk_data]   Package stopwords is already up-to-date!\n"
     ]
    }
   ],
   "source": [
    "import pandas as pd\n",
    "import nltk\n",
    "import string\n",
    "from nltk.corpus import stopwords\n",
    "nltk.download('stopwords')\n",
    "import spacy\n",
    "from nltk.tokenize import word_tokenize  \n",
    "import numpy as np\n",
    "\n",
    "\n",
    "df = pd.read_csv('amazon_train_df.csv') # read csv file to get data"
   ]
  },
  {
   "cell_type": "code",
   "execution_count": 9,
   "id": "e96ce45b",
   "metadata": {},
   "outputs": [],
   "source": [
    "# remove punctuation:  !\"#$%&'()*+,-./:;<=>?@[\\]^_`{|}~ in text\n",
    "def remove_punctuation(text):\n",
    "    sent=[]\n",
    "    for t in text.split(' ') :\n",
    "        no_punct = \"\".join([c for c in t if c not in string. punctuation])\n",
    "        sent.append (no_punct)\n",
    "\n",
    "    sentence = \" \".join(s for s in sent)\n",
    "    return sentence"
   ]
  },
  {
   "cell_type": "code",
   "execution_count": 10,
   "id": "c2480c24",
   "metadata": {},
   "outputs": [],
   "source": [
    "# clear the sentence to get clear words in text\n",
    "def clearing_sen(text):\n",
    "    stop_words = set(stopwords.words('english')) \n",
    "    stop_words.update(('nt',' ','The','This'))\n",
    "    \n",
    "    rmv_punc_sentence = remove_punctuation(text)\n",
    "    \n",
    "    nlp = spacy.load('en_core_web_sm')\n",
    "\n",
    "    doc = nlp(rmv_punc_sentence.strip())\n",
    "\n",
    "    tok_sentence = [token.text for token in doc] #slice sentence into word-by word\n",
    "\n",
    "    rmv_sw_sentence = [w for w in tok_sentence if not w in stop_words] #remove stop words\n",
    "    \n",
    "    return rmv_sw_sentence\n"
   ]
  },
  {
   "cell_type": "code",
   "execution_count": 11,
   "id": "9b90bb1e",
   "metadata": {},
   "outputs": [],
   "source": [
    "# make dictionary with word and the frequency of word appearance\n",
    "def make_frequency_dict(text):\n",
    "    dictionary = {}\n",
    "    for word in text:\n",
    "        if word not in dictionary:\n",
    "            dictionary[word] = 0\n",
    "        dictionary[word] += 1\n",
    "        \n",
    "    vocab_sorted = sorted(dictionary.items(), key=lambda x:x[1], reverse = True)\n",
    "    \n",
    "    word_to_index = {}\n",
    "    i = 0\n",
    "\n",
    "    for (word, frequency) in vocab_sorted :\n",
    "        if frequency > 1: #cleaning : remove if frequency is less than 2\n",
    "            i += 1\n",
    "            word_to_index[word] = i\n",
    "    \n",
    "    return word_to_index\n",
    "        \n"
   ]
  },
  {
   "cell_type": "code",
   "execution_count": 12,
   "id": "40bad0ed",
   "metadata": {},
   "outputs": [],
   "source": [
    "#Creation of conditions for sharing data\n",
    "review1 = df['1'] == 1\n",
    "review2 = df['1'] == 2\n",
    "review3 = df['1'] == 3\n",
    "review4 = df['1'] == 4\n",
    "review5 = df['1'] == 5\n",
    "\n",
    "#Divide data by review\n",
    "df1 = df[review1]\n",
    "df2 = df[review2]\n",
    "df3 = df[review3]\n",
    "df4 = df[review4]\n",
    "df5 = df[review5]\n",
    "\n",
    "#Only get the reviews rows (4)\n",
    "df1 = df1['4']\n",
    "df2 = df2['4']\n",
    "df3 = df3['4']\n",
    "df4 = df4['4']\n",
    "df5 = df5['4']\n",
    "\n",
    "#df1.to_csv('test.csv') # for checking"
   ]
  },
  {
   "cell_type": "code",
   "execution_count": 13,
   "id": "ce73daf0",
   "metadata": {},
   "outputs": [],
   "source": [
    "#print the most 5 frequent words in each reviews\n",
    "def printing(dic, num):\n",
    "    print(\"review %d :\" %num, end='')\n",
    "    j = 0\n",
    "    for i in dic.keys():\n",
    "        if(j == 5):\n",
    "            return;\n",
    "        print(i, end='')\n",
    "        if(j != 4):\n",
    "            print(\", \", end='')\n",
    "        \n",
    "        j += 1"
   ]
  },
  {
   "cell_type": "code",
   "execution_count": 14,
   "id": "8d7af005",
   "metadata": {},
   "outputs": [
    {
     "name": "stdout",
     "output_type": "stream",
     "text": [
      "review 1 :I, would, one, quality, disappointed\n",
      "review 2 :I, would, good, really, quality\n",
      "review 3 :I, would, good, dice, one\n",
      "review 4 :I, dice, one, set, good\n",
      "review 5 :I, model, good, well, quality"
     ]
    }
   ],
   "source": [
    "# to make in to string type\n",
    "values1 = \"\".join(str(i) for i in df1.values)\n",
    "values2 = \"\".join(str(i) for i in df2.values)\n",
    "values3 = \"\".join(str(i) for i in df3.values)\n",
    "values4 = \"\".join(str(i) for i in df4.values)\n",
    "values5 = \"\".join(str(i) for i in df5.values)\n",
    "\n",
    "# call each function to clearing the text\n",
    "rmv_sw_sentence1 = clearing_sen(values1)\n",
    "dic1 = make_frequency_dict(rmv_sw_sentence1)\n",
    "\n",
    "\n",
    "rmv_sw_sentence2 = clearing_sen(values2)\n",
    "dic2 = make_frequency_dict(rmv_sw_sentence2)\n",
    "\n",
    "rmv_sw_sentence3 = clearing_sen(values3)\n",
    "dic3 = make_frequency_dict(rmv_sw_sentence3)\n",
    "\n",
    "rmv_sw_sentence4 = clearing_sen(values4)\n",
    "dic4 = make_frequency_dict(rmv_sw_sentence4)\n",
    "\n",
    "rmv_sw_sentence5 = clearing_sen(values5)\n",
    "dic5 = make_frequency_dict(rmv_sw_sentence5)\n",
    "\n",
    "\n",
    "#call a function to printout the results\n",
    "printing(dic1, 1)\n",
    "print()\n",
    "printing(dic2, 2)\n",
    "print()\n",
    "printing(dic3, 3)\n",
    "print()\n",
    "printing(dic4, 4)\n",
    "print()\n",
    "printing(dic5, 5)\n",
    "\n"
   ]
  },
  {
   "cell_type": "code",
   "execution_count": null,
   "id": "08bab688",
   "metadata": {},
   "outputs": [],
   "source": []
  },
  {
   "cell_type": "code",
   "execution_count": null,
   "id": "9a178cc5",
   "metadata": {},
   "outputs": [],
   "source": []
  },
  {
   "cell_type": "code",
   "execution_count": null,
   "id": "7a1eb2f9",
   "metadata": {},
   "outputs": [],
   "source": []
  },
  {
   "cell_type": "code",
   "execution_count": null,
   "id": "1e1b9a8c",
   "metadata": {},
   "outputs": [],
   "source": []
  },
  {
   "cell_type": "code",
   "execution_count": null,
   "id": "8f4b14bb",
   "metadata": {},
   "outputs": [],
   "source": []
  },
  {
   "cell_type": "code",
   "execution_count": null,
   "id": "69900145",
   "metadata": {},
   "outputs": [],
   "source": []
  }
 ],
 "metadata": {
  "kernelspec": {
   "display_name": "Python 3 (ipykernel)",
   "language": "python",
   "name": "python3"
  },
  "language_info": {
   "codemirror_mode": {
    "name": "ipython",
    "version": 3
   },
   "file_extension": ".py",
   "mimetype": "text/x-python",
   "name": "python",
   "nbconvert_exporter": "python",
   "pygments_lexer": "ipython3",
   "version": "3.9.9"
  }
 },
 "nbformat": 4,
 "nbformat_minor": 5
}
